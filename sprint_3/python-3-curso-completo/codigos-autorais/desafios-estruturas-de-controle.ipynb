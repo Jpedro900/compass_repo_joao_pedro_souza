{
 "cells": [
  {
   "cell_type": "markdown",
   "metadata": {},
   "source": [
    "# DESAFIOS ESTRUTURA DE CONTROLE"
   ]
  },
  {
   "cell_type": "markdown",
   "metadata": {},
   "source": [
    "## DESAFIO IF-ELSE"
   ]
  },
  {
   "cell_type": "markdown",
   "metadata": {},
   "source": [
    "### CALCULAR CONCEITO POR NOTA"
   ]
  },
  {
   "cell_type": "code",
   "execution_count": 7,
   "metadata": {},
   "outputs": [
    {
     "name": "stdout",
     "output_type": "stream",
     "text": [
      "Conceito C\n"
     ]
    }
   ],
   "source": [
    "def calcular_conceito(nota):\n",
    "    nota = float(nota)\n",
    "\n",
    "    if nota >= 9.1 and nota <= 10:\n",
    "        return \"Conceito A\"\n",
    "    elif nota >= 8.1:\n",
    "        return \"Conceito A-\"\n",
    "    elif nota >= 7.1:\n",
    "        return \"Conceito B\"\n",
    "    elif nota >= 6.1:\n",
    "        return \"Conceito B-\"\n",
    "    elif nota >= 5.1:\n",
    "        return \"Conceito C\"\n",
    "    elif nota >= 4.1:\n",
    "        return \"Conceito C-\"\n",
    "    elif nota >= 3.1:\n",
    "        return \"Conceito D\"\n",
    "    elif nota >= 2.1:\n",
    "        return \"Conceito D-\"\n",
    "    elif nota >= 1.1:\n",
    "        return \"Conceito E\"\n",
    "    elif nota >= 0:\n",
    "        return \"Conceito E-\"\n",
    "    else:\n",
    "        return \"Nota inválida\"\n",
    "\n",
    "if __name__ == \"__main__\":\n",
    "    valor_informado = input(\"Nota do aluno: \")\n",
    "    conceito = calcular_conceito(valor_informado)\n",
    "    print(conceito)\n"
   ]
  },
  {
   "cell_type": "markdown",
   "metadata": {},
   "source": [
    "### CALCULAR FAIXA ETARIA POR IDADE"
   ]
  },
  {
   "cell_type": "code",
   "execution_count": 8,
   "metadata": {},
   "outputs": [
    {
     "name": "stdout",
     "output_type": "stream",
     "text": [
      "17: Menor de idade\n",
      "0: Menor de idade\n",
      "35: Adulto\n",
      "87: Melhor idade\n",
      "113: Centenário\n",
      "-2: Idade inválida\n"
     ]
    }
   ],
   "source": [
    "def faixa_etaria(idade):\n",
    "    if 0 <= idade < 18:\n",
    "        return 'Menor de idade'\n",
    "    elif idade in range(18, 65):\n",
    "        return 'Adulto'\n",
    "    elif idade in range(65, 100):\n",
    "        return 'Melhor idade'\n",
    "    elif idade >= 100:\n",
    "        return 'Centenário'\n",
    "    else:\n",
    "        return 'Idade inválida'\n",
    "\n",
    "\n",
    "if __name__ == '__main__':\n",
    "    for idade in (17, 0, 35, 87, 113, -2):\n",
    "        print(f'{idade}: {faixa_etaria(idade)}')\n"
   ]
  },
  {
   "cell_type": "markdown",
   "metadata": {},
   "source": [
    "## DESAFIO FOR"
   ]
  },
  {
   "cell_type": "markdown",
   "metadata": {},
   "source": [
    "### DADO"
   ]
  },
  {
   "cell_type": "code",
   "execution_count": 41,
   "metadata": {},
   "outputs": [
    {
     "name": "stdout",
     "output_type": "stream",
     "text": [
      "Acertou 2\n"
     ]
    }
   ],
   "source": [
    "from random import randint\n",
    "\n",
    "def sortear_dado():\n",
    "    return randint(1, 6)\n",
    "\n",
    "\n",
    "for i in range(1, 7):\n",
    "    if i % 2 != 0:\n",
    "        continue\n",
    "\n",
    "    if sortear_dado() == i:\n",
    "        print('Acertou', i)\n",
    "        break\n",
    "else:\n",
    "    print('Não acertou o número')\n"
   ]
  },
  {
   "cell_type": "markdown",
   "metadata": {},
   "source": [
    "## SWITH-CASE"
   ]
  },
  {
   "cell_type": "code",
   "execution_count": 47,
   "metadata": {},
   "outputs": [
    {
     "name": "stdout",
     "output_type": "stream",
     "text": [
      "0: ** inválido **\n",
      "1: Domingo\n",
      "2: Segunda\n",
      "3: Terça\n",
      "4: Quarta\n",
      "5: Quinta\n",
      "6: Sexta\n",
      "7: Sabado\n",
      "8: ** inválido **\n"
     ]
    }
   ],
   "source": [
    "def get_dia_semana(dia):\n",
    "    match dia:\n",
    "        case 1:\n",
    "            return 'Domingo'\n",
    "        case 2:\n",
    "            return 'Segunda'\n",
    "        case 3:\n",
    "            return 'Terça'\n",
    "        case 4:\n",
    "            return 'Quarta'\n",
    "        case 5:\n",
    "            return 'Quinta'\n",
    "        case 6:\n",
    "            return 'Sexta'\n",
    "        case 7:\n",
    "            return 'Sabado'\n",
    "        case _:\n",
    "            return '** inválido **'\n",
    "            \n",
    "    \n",
    " \n",
    "if __name__ == '__main__':\n",
    "    for dia in range(9):\n",
    "        print(f'{dia}: {get_dia_semana(dia)}')"
   ]
  },
  {
   "cell_type": "markdown",
   "metadata": {},
   "source": [
    "## DESAFIO SET"
   ]
  },
  {
   "cell_type": "code",
   "execution_count": 61,
   "metadata": {},
   "outputs": [
    {
     "name": "stdout",
     "output_type": "stream",
     "text": [
      "Texto possui palavras proibidas: {'futebol'}\n",
      "Texto autorizado: A praia foi divertida\n"
     ]
    }
   ],
   "source": [
    "PALAVRAS_PROIBIDAS = {'futebol', 'religião', 'política'} # set\n",
    "textos = [\n",
    "    'João gosta de futebol e politica',\n",
    "    'A praia foi divertida'\n",
    "] # list\n",
    "\n",
    "for texto in textos:\n",
    "    intersecao = PALAVRAS_PROIBIDAS.intersection(set(texto.lower().split())) #faz uma interseção entre as palavras proibidas e o texto\n",
    "    if intersecao: \n",
    "        print('Texto possui palavras proibidas:', intersecao)\n",
    "    else: \n",
    "        print('Texto autorizado:', texto) "
   ]
  },
  {
   "cell_type": "markdown",
   "metadata": {},
   "source": [
    "## SEGUNDO PROJETO"
   ]
  },
  {
   "cell_type": "markdown",
   "metadata": {},
   "source": [
    "### SEQUENCIA DE FIBONACCI "
   ]
  },
  {
   "cell_type": "markdown",
   "metadata": {},
   "source": [
    "#### V1.0"
   ]
  },
  {
   "cell_type": "code",
   "execution_count": 60,
   "metadata": {},
   "outputs": [
    {
     "name": "stdout",
     "output_type": "stream",
     "text": [
      "0, 1, 1, 2, 3, 5, 8, 13, 21, 34, 55, 89, 144, "
     ]
    }
   ],
   "source": [
    "def fibonacci():\n",
    "    penultimo = 0\n",
    "    ultimo = 1\n",
    "    print(f'{penultimo}, {ultimo}', end=', ')\n",
    "    while True:\n",
    "        proximo = penultimo + ultimo\n",
    "        print(proximo, end=', ')\n",
    "        penultimo = ultimo\n",
    "        ultimo = proximo\n",
    "\n",
    "\n",
    "if __name__ == '__main__':\n",
    "    fibonacci()"
   ]
  },
  {
   "cell_type": "markdown",
   "metadata": {},
   "source": [
    "#### V2.0 - ADICIONANDO LIMITE"
   ]
  },
  {
   "cell_type": "code",
   "execution_count": 69,
   "metadata": {},
   "outputs": [
    {
     "name": "stdout",
     "output_type": "stream",
     "text": [
      "0, 1, 1, 2, 3, 5, 8, 13, 21, 34, 55, 89, 144, 233, 377, 610, 987, 1597, "
     ]
    }
   ],
   "source": [
    "def fibonacci(limite):\n",
    "    penultimo = 0\n",
    "    ultimo = 1\n",
    "    print(f'{penultimo}, {ultimo}', end=', ')\n",
    "    while ultimo < limite:\n",
    "        proximo = penultimo + ultimo\n",
    "        print(proximo, end=', ')\n",
    "        penultimo = ultimo\n",
    "        ultimo = proximo\n",
    "\n",
    "\n",
    "if __name__ == '__main__':\n",
    "    fibonacci(1000)"
   ]
  },
  {
   "cell_type": "markdown",
   "metadata": {},
   "source": [
    "#### V3.0 - USANDO PACKING PARA TROCAR VARIAVEIS"
   ]
  },
  {
   "cell_type": "code",
   "execution_count": 71,
   "metadata": {},
   "outputs": [
    {
     "name": "stdout",
     "output_type": "stream",
     "text": [
      "0, 1, 1, 2, 3, 5, 8, 13, 21, 34, 55, 89, 144, 233, 377, 610, 987, 1597, "
     ]
    }
   ],
   "source": [
    "def fibonacci(limite):\n",
    "    penultimo = 0\n",
    "    ultimo = 1\n",
    "    print(f'{penultimo}, {ultimo}', end=', ')\n",
    "    while ultimo < limite:\n",
    "        penultimo, ultimo = ultimo, penultimo + ultimo #desempacotamento de tupla\n",
    "        print(ultimo, end=', ')\n",
    "        \n",
    "\n",
    "if __name__ == '__main__':\n",
    "    fibonacci(1000)"
   ]
  },
  {
   "cell_type": "markdown",
   "metadata": {},
   "source": [
    "#### V4.0 - SUBSTITUINDO VARIAVEIS POR LISTA"
   ]
  },
  {
   "cell_type": "code",
   "execution_count": 72,
   "metadata": {},
   "outputs": [
    {
     "name": "stdout",
     "output_type": "stream",
     "text": [
      "0\n",
      "1\n",
      "1\n",
      "2\n",
      "3\n",
      "5\n",
      "8\n",
      "13\n",
      "21\n",
      "34\n",
      "55\n",
      "89\n",
      "144\n",
      "233\n",
      "377\n",
      "610\n",
      "987\n",
      "1597\n",
      "2584\n",
      "4181\n",
      "6765\n",
      "10946\n"
     ]
    }
   ],
   "source": [
    "def fibonacci(limite):\n",
    "    resultado = [0, 1]\n",
    "    while resultado [-1] < limite: \n",
    "        resultado.append(resultado[-2] + resultado[-1])\n",
    "    return resultado\n",
    "        \n",
    "\n",
    "if __name__ == '__main__':\n",
    "    for fib in fibonacci(10000):\n",
    "        print(fib)"
   ]
  },
  {
   "cell_type": "markdown",
   "metadata": {},
   "source": [
    "#### V5.0 - DESAFIO SUM"
   ]
  },
  {
   "cell_type": "code",
   "execution_count": 74,
   "metadata": {},
   "outputs": [
    {
     "name": "stdout",
     "output_type": "stream",
     "text": [
      "0\n",
      "1\n",
      "1\n",
      "2\n",
      "3\n",
      "5\n",
      "8\n",
      "13\n",
      "21\n",
      "34\n",
      "55\n",
      "89\n",
      "144\n",
      "233\n",
      "377\n",
      "610\n",
      "987\n",
      "1597\n",
      "2584\n",
      "4181\n",
      "6765\n",
      "10946\n"
     ]
    }
   ],
   "source": [
    "def fibonacci(limite):\n",
    "    resultado = [0, 1]\n",
    "    while resultado [-1] < limite: \n",
    "        resultado.append(sum(resultado[-2:])) #soma os dois ultimos elementos da lista\n",
    "    return resultado\n",
    "        \n",
    "\n",
    "if __name__ == '__main__':\n",
    "    for fib in fibonacci(10000):\n",
    "        print(fib)"
   ]
  },
  {
   "cell_type": "markdown",
   "metadata": {},
   "source": [
    "#### V6.0 - MUDANDO O LIMITE"
   ]
  },
  {
   "cell_type": "code",
   "execution_count": 76,
   "metadata": {},
   "outputs": [
    {
     "name": "stdout",
     "output_type": "stream",
     "text": [
      "0\n",
      "1\n",
      "1\n",
      "2\n",
      "3\n"
     ]
    }
   ],
   "source": [
    "def fibonacci(quantidade):\n",
    "    resultado = [0, 1]\n",
    "    while True: \n",
    "        resultado.append(sum(resultado[-2:])) \n",
    "        if len(resultado) == quantidade: #se o tamanho da lista for igual a quantidade, para\n",
    "            break\n",
    "    return resultado\n",
    "        \n",
    "\n",
    "if __name__ == '__main__':\n",
    "    for fib in fibonacci(5):\n",
    "        print(fib)"
   ]
  },
  {
   "cell_type": "markdown",
   "metadata": {},
   "source": [
    "#### V7.0 - TROCANDO WHILE POR FOR"
   ]
  },
  {
   "cell_type": "code",
   "execution_count": 78,
   "metadata": {},
   "outputs": [
    {
     "name": "stdout",
     "output_type": "stream",
     "text": [
      "0\n",
      "1\n",
      "1\n",
      "2\n",
      "3\n"
     ]
    }
   ],
   "source": [
    "def fibonacci(quantidade):\n",
    "    resultado = [0, 1]\n",
    "    for _ in range(2, quantidade):\n",
    "        resultado.append(sum(resultado[-2:])) \n",
    "    return resultado\n",
    "        \n",
    "\n",
    "if __name__ == '__main__':\n",
    "    for fib in fibonacci(5):\n",
    "        print(fib)"
   ]
  },
  {
   "cell_type": "markdown",
   "metadata": {},
   "source": [
    "### FIBONACCI RECURSIVO"
   ]
  },
  {
   "cell_type": "markdown",
   "metadata": {},
   "source": [
    "#### V1.0"
   ]
  },
  {
   "cell_type": "code",
   "execution_count": 86,
   "metadata": {},
   "outputs": [
    {
     "name": "stdout",
     "output_type": "stream",
     "text": [
      "0\n",
      "1\n",
      "1\n",
      "2\n",
      "3\n"
     ]
    }
   ],
   "source": [
    "#fibonacci com recursividade\n",
    "def fibonacci(quantidade, sequencia=(0, 1)):\n",
    "    if len(sequencia) == quantidade:\n",
    "        return sequencia\n",
    "    return fibonacci(quantidade, sequencia + (sum(sequencia[-2:]), )) #concatenação de tuplas\n",
    "\n",
    "\n",
    "if __name__ == '__main__':\n",
    "    for fib in fibonacci(5):\n",
    "        print(fib)"
   ]
  },
  {
   "cell_type": "markdown",
   "metadata": {},
   "source": [
    "#### V2.0 - REFATORACAO"
   ]
  },
  {
   "cell_type": "code",
   "execution_count": 87,
   "metadata": {},
   "outputs": [
    {
     "name": "stdout",
     "output_type": "stream",
     "text": [
      "0\n",
      "1\n",
      "1\n",
      "2\n",
      "3\n"
     ]
    }
   ],
   "source": [
    "def fibonacci(quantidade, sequencia=(0, 1)):\n",
    "    return sequencia if len(sequencia) == quantidade else \\\n",
    "          fibonacci(quantidade, sequencia + (sum(sequencia[-2:]), )) #concatenação de tuplas\n",
    "\n",
    "\n",
    "if __name__ == '__main__':\n",
    "    for fib in fibonacci(5):\n",
    "        print(fib)"
   ]
  }
 ],
 "metadata": {
  "kernelspec": {
   "display_name": "Python 3",
   "language": "python",
   "name": "python3"
  },
  "language_info": {
   "codemirror_mode": {
    "name": "ipython",
    "version": 3
   },
   "file_extension": ".py",
   "mimetype": "text/x-python",
   "name": "python",
   "nbconvert_exporter": "python",
   "pygments_lexer": "ipython3",
   "version": "3.10.12"
  }
 },
 "nbformat": 4,
 "nbformat_minor": 2
}
