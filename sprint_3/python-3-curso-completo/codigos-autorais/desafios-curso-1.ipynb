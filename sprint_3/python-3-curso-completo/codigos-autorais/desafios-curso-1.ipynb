{
 "cells": [
  {
   "cell_type": "markdown",
   "metadata": {},
   "source": [
    "# DESAFIOS DO CURSO DE PYTHON"
   ]
  },
  {
   "cell_type": "markdown",
   "metadata": {},
   "source": [
    "## DESAFIO OPERADORES ARITMETICOS"
   ]
  },
  {
   "cell_type": "markdown",
   "metadata": {},
   "source": [
    "### Percentual do salario gasto em despesas"
   ]
  },
  {
   "cell_type": "code",
   "execution_count": 11,
   "metadata": {},
   "outputs": [
    {
     "name": "stdout",
     "output_type": "stream",
     "text": [
      "gasto com despesas = 71.18491790925822\n"
     ]
    }
   ],
   "source": [
    "salario = 3450.45\n",
    "despesas = 2456.2\n",
    "\n",
    "gasto_com_despesas = despesas/salario * 100 # calcula o percentual de gasto com despesas\n",
    "\n",
    "print(\"gasto com despesas =\", gasto_com_despesas)\n"
   ]
  },
  {
   "cell_type": "markdown",
   "metadata": {},
   "source": [
    "## DESAFIO OPERADORES LOGICOS"
   ]
  },
  {
   "cell_type": "markdown",
   "metadata": {},
   "source": [
    "### OS TRABALHOS"
   ]
  },
  {
   "cell_type": "code",
   "execution_count": 6,
   "metadata": {},
   "outputs": [
    {
     "name": "stdout",
     "output_type": "stream",
     "text": [
      "Ficou em casa e esta saudavel\n"
     ]
    }
   ],
   "source": [
    "trabalho_terca = False\n",
    "trabalho_quinta = False\n",
    "\n",
    "\"\"\"\n",
    "- Confirmanando os 2: TV 50' + sorvete\n",
    "- Confirmando apenas 1: TV 32' + sorvete\n",
    "- Nenhum confirmado: Fica em casa\n",
    "\"\"\"\n",
    "\n",
    "tv_50 = trabalho_terca and trabalho_quinta\n",
    "sorvete = trabalho_terca or trabalho_quinta\n",
    "tv_32 = trabalho_terca != trabalho_quinta # xor\n",
    "mais_saudavel = not sorvete\n",
    "\n",
    "if(tv_50):\n",
    "    print(\"Comprou a TV de 50' e tomou sorvete\")\n",
    "elif(tv_32):\n",
    "    print(\"Comprou a TV de 32' e tomou sorvete\")\n",
    "else:\n",
    "    print(\"Ficou em casa e esta saudavel\")"
   ]
  },
  {
   "cell_type": "markdown",
   "metadata": {},
   "source": [
    "## PRIMEIRO PROJETO EM PYTHON"
   ]
  },
  {
   "cell_type": "markdown",
   "metadata": {},
   "source": [
    "### AREA DO CIRCULO"
   ]
  },
  {
   "cell_type": "markdown",
   "metadata": {},
   "source": [
    "#### V1.0"
   ]
  },
  {
   "cell_type": "code",
   "execution_count": 15,
   "metadata": {},
   "outputs": [
    {
     "name": "stdout",
     "output_type": "stream",
     "text": [
      "Area do circulo = 735.4148031000001\n"
     ]
    }
   ],
   "source": [
    "pi = 3.14159\n",
    "raio = 15.3\n",
    "area_circulo = pi * raio ** 2 # calcula a area do circulo\n",
    "\n",
    "print(\"Area do circulo =\", area_circulo)\n"
   ]
  },
  {
   "cell_type": "markdown",
   "metadata": {},
   "source": [
    "#### V2.0 - ENCODING"
   ]
  },
  {
   "cell_type": "code",
   "execution_count": 17,
   "metadata": {},
   "outputs": [
    {
     "name": "stdout",
     "output_type": "stream",
     "text": [
      "Area do circulo = 735.4148031000001\n"
     ]
    }
   ],
   "source": [
    "# -*- coding: utf-8 -*-\n",
    "pi = 3.14159\n",
    "raio = 15.3\n",
    "area_circulo = pi * raio ** 2 # calcula a area do circulo\n",
    "\n",
    "print(\"Area do circulo =\", area_circulo)"
   ]
  },
  {
   "cell_type": "markdown",
   "metadata": {},
   "source": [
    "#### V3.0 - SHEBANG"
   ]
  },
  {
   "cell_type": "code",
   "execution_count": 16,
   "metadata": {},
   "outputs": [
    {
     "name": "stdout",
     "output_type": "stream",
     "text": [
      "Area do circulo = 735.4148031000001\n"
     ]
    }
   ],
   "source": [
    "#!/usr/local/bin/python3\n",
    "pi = 3.14159\n",
    "raio = 15.3\n",
    "area_circulo = pi * raio ** 2 # calcula a area do circulo\n",
    "\n",
    "print(\"Area do circulo =\", area_circulo)"
   ]
  },
  {
   "cell_type": "markdown",
   "metadata": {},
   "source": [
    "#### V4.0 - IMPORTANDO O PI DO MODULO MATH"
   ]
  },
  {
   "cell_type": "code",
   "execution_count": 20,
   "metadata": {},
   "outputs": [
    {
     "name": "stdout",
     "output_type": "stream",
     "text": [
      "Area do circulo = 735.4154242788347\n"
     ]
    }
   ],
   "source": [
    "#!/usr/local/bin/python3\n",
    "from math import pi #importa apenas o pi da biblioteca math\n",
    "\n",
    "raio = 15.3\n",
    "area_circulo = math.pi * raio ** 2 # calcula a area do circulo\n",
    "\n",
    "print(\"Area do circulo =\", area_circulo)\n"
   ]
  },
  {
   "cell_type": "markdown",
   "metadata": {},
   "source": [
    "#### V5.0 - PEGANDO O RAIO DO USUARIO"
   ]
  },
  {
   "cell_type": "code",
   "execution_count": 2,
   "metadata": {},
   "outputs": [
    {
     "name": "stdout",
     "output_type": "stream",
     "text": [
      "Area do circulo = 50.26548245743669\n"
     ]
    }
   ],
   "source": [
    "#!/usr/local/bin/python3\n",
    "from math import pi #importa apenas o pi da biblioteca math\n",
    "\n",
    "raio = input ('Informe o raio: ') # pergunta ao usuario o raio do circulo\n",
    "area_circulo = math.pi * float(raio) ** 2 # calcula a area do circulo\n",
    "\n",
    "print(\"Area do circulo =\", area_circulo)\n"
   ]
  },
  {
   "cell_type": "markdown",
   "metadata": {},
   "source": [
    "#### V6.0 - UM POUCO SOBRE MODULOS"
   ]
  },
  {
   "cell_type": "code",
   "execution_count": 3,
   "metadata": {},
   "outputs": [
    {
     "name": "stdout",
     "output_type": "stream",
     "text": [
      "Area do circulo = 50.26548245743669\n",
      "Nome do modulo __main__\n"
     ]
    }
   ],
   "source": [
    "#!/usr/local/bin/python3\n",
    "from math import pi #importa apenas o pi da biblioteca math\n",
    "\n",
    "raio = input ('Informe o raio: ') # pergunta ao usuario o raio do circulo\n",
    "area_circulo = math.pi * float(raio) ** 2 # calcula a area do circulo\n",
    "\n",
    "print(\"Area do circulo =\", area_circulo)\n",
    "\n",
    "print('Nome do modulo', __name__) # imprime o nome do modulo\n"
   ]
  },
  {
   "cell_type": "markdown",
   "metadata": {},
   "source": [
    "#### V7.0 - TESTANDO SE E O MODULO PRINICPAL"
   ]
  },
  {
   "cell_type": "code",
   "execution_count": 4,
   "metadata": {},
   "outputs": [
    {
     "name": "stdout",
     "output_type": "stream",
     "text": [
      "Area do circulo = 50.26548245743669\n"
     ]
    }
   ],
   "source": [
    "#!/usr/local/bin/python3\n",
    "from math import pi #importa apenas o pi da biblioteca math\n",
    "\n",
    "if __name__ == '__main__': # se for o modulo principal executa o codigo abaixo\n",
    "    raio = input ('Informe o raio: ') # pergunta ao usuario o raio do circulo\n",
    "    print('Area do circulo =', pi * float(raio) ** 2) # calcula a area do circulo\n"
   ]
  },
  {
   "cell_type": "markdown",
   "metadata": {},
   "source": [
    "#### V8.0 - CRIANDO FUNCAO SEM RETORNO"
   ]
  },
  {
   "cell_type": "code",
   "execution_count": 6,
   "metadata": {},
   "outputs": [
    {
     "name": "stdout",
     "output_type": "stream",
     "text": [
      "Area do circulo = 50.26548245743669\n"
     ]
    }
   ],
   "source": [
    "#!/usr/local/bin/python3\n",
    "from math import pi #importa apenas o pi da biblioteca math\n",
    "\n",
    "\n",
    "def area_circulo(raio): # define a funcao area_circulo\n",
    "    print('Area do circulo =', pi * float(raio) ** 2) # calcula a area do circulo\n",
    "\n",
    "\n",
    "if __name__ == '__main__': # se for o modulo principal executa o codigo abaixo\n",
    "    raio = input ('Informe o raio: ') # pergunta ao usuario o raio do circulo\n",
    "    area_circulo(raio) # chama a funcao circulo     \n"
   ]
  },
  {
   "cell_type": "markdown",
   "metadata": {},
   "source": [
    "#### V9.0 - ADICIONANDO RETORNO A FUNCAO"
   ]
  },
  {
   "cell_type": "code",
   "execution_count": 7,
   "metadata": {},
   "outputs": [
    {
     "name": "stdout",
     "output_type": "stream",
     "text": [
      "Area do circulo = 50.26548245743669\n"
     ]
    }
   ],
   "source": [
    "#!/usr/local/bin/python3\n",
    "from math import pi #importa apenas o pi da biblioteca math\n",
    "\n",
    "\n",
    "def area_circulo(raio): # define a funcao area_circulo\n",
    "    return pi * float(raio) ** 2 # calcula a area do circulo\n",
    "\n",
    "\n",
    "if __name__ == '__main__': # se for o modulo principal executa o codigo abaixo\n",
    "    raio = input ('Informe o raio: ') # pergunta ao usuario o raio do circulo\n",
    "    area = area_circulo(raio) # chama a funcao circulo\n",
    "    print('Area do circulo =', area) # imprime a area do circulo\n"
   ]
  },
  {
   "cell_type": "markdown",
   "metadata": {},
   "source": [
    "#### V10.0 - VALIDACOES"
   ]
  },
  {
   "cell_type": "code",
   "execution_count": 12,
   "metadata": {},
   "outputs": [
    {
     "name": "stdout",
     "output_type": "stream",
     "text": [
      "Informe o raio\n"
     ]
    }
   ],
   "source": [
    "#!/usr/local/bin/python3\n",
    "from math import pi #importa apenas o pi da biblioteca math\n",
    "\n",
    "\n",
    "def area_circulo(raio): # define a funcao area_circulo\n",
    "    return pi * float(raio) ** 2 # calcula a area do circulo\n",
    "\n",
    "\n",
    "if __name__ == '__main__': # se for o modulo principal executa o codigo abaixo\n",
    "    raio = input ('Informe o raio: ') # pergunta ao usuario o raio do circulo\n",
    "    if len(raio) > 0 and float(raio) > 0: # verifica se o raio foi informado e se e maior que zero\n",
    "        area = area_circulo(raio) # chama a funcao circulo\n",
    "        print('Area do circulo =', area) # imprime a area do circulo\n",
    "    else:\n",
    "        print('Informe o raio') # imprime a mensagem de erro\n"
   ]
  },
  {
   "cell_type": "markdown",
   "metadata": {},
   "source": [
    "#### V11.0 - MELHORANDO O HELP"
   ]
  },
  {
   "cell_type": "code",
   "execution_count": 13,
   "metadata": {},
   "outputs": [
    {
     "name": "stdout",
     "output_type": "stream",
     "text": [
      "Informe o raio\n"
     ]
    }
   ],
   "source": [
    "#!/usr/local/bin/python3\n",
    "from math import pi #importa apenas o pi da biblioteca math\n",
    "\n",
    "def help(): # define a funcao help\n",
    "    print('Informe o raio') # imprime a mensagem de ajuda\n",
    "\n",
    "\n",
    "def area_circulo(raio): # define a funcao area_circulo\n",
    "    return pi * float(raio) ** 2 # calcula a area do circulo\n",
    "\n",
    "\n",
    "if __name__ == '__main__': # se for o modulo principal executa o codigo abaixo\n",
    "    raio = input ('Informe o raio: ') # pergunta ao usuario o raio do circulo\n",
    "    if len(raio) > 0 and float(raio) > 0: # verifica se o raio foi informado e se e maior que zero\n",
    "        area = area_circulo(raio) # chama a funcao circulo\n",
    "        print('Area do circulo =', area) # imprime a area do circulo\n",
    "    else:\n",
    "        help() # chama a funcao help\n"
   ]
  }
 ],
 "metadata": {
  "kernelspec": {
   "display_name": "Python 3",
   "language": "python",
   "name": "python3"
  },
  "language_info": {
   "codemirror_mode": {
    "name": "ipython",
    "version": 3
   },
   "file_extension": ".py",
   "mimetype": "text/x-python",
   "name": "python",
   "nbconvert_exporter": "python",
   "pygments_lexer": "ipython3",
   "version": "3.10.12"
  }
 },
 "nbformat": 4,
 "nbformat_minor": 2
}
