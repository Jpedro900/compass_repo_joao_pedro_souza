{
 "cells": [
  {
   "cell_type": "markdown",
   "metadata": {},
   "source": [
    "# DESAFIOS DA TRILHA DE APRENDIZADO PYTHON"
   ]
  },
  {
   "cell_type": "markdown",
   "metadata": {},
   "source": [
    "## PYTHON I"
   ]
  },
  {
   "cell_type": "markdown",
   "metadata": {},
   "source": [
    "### Desenvolva um código Python que lê do teclado nome e a idade atual de uma pessoa. Como saída, imprima o ano em que a pessoa completará 100 anos de idade."
   ]
  },
  {
   "cell_type": "code",
   "execution_count": 44,
   "metadata": {},
   "outputs": [
    {
     "name": "stdout",
     "output_type": "stream",
     "text": [
      "joao nasceu em 1980 e tera 100 anos em 2080\n"
     ]
    }
   ],
   "source": [
    "import datetime\n",
    "\n",
    "nome = input('Qual seu nome')\n",
    "idade = input('Qual sua idade')\n",
    "\n",
    "nascimento = datetime.datetime.now().year - int(idade)\n",
    "\n",
    "print(f'{nome} nasceu em {nascimento} e tera 100 anos em {nascimento + 100}')"
   ]
  },
  {
   "cell_type": "markdown",
   "metadata": {},
   "source": [
    "### Escreva um código Python para verificar se três números digitados na entrada padrão são pares ou ímpares. Para cada número, imprima como saída Par: ou Ímpar: e o número correspondente (um linha para cada número lido).\n",
    "_Importante: Aplique a função `range()` em seu código._"
   ]
  },
  {
   "cell_type": "code",
   "execution_count": 45,
   "metadata": {},
   "outputs": [
    {
     "name": "stdout",
     "output_type": "stream",
     "text": [
      "Ímpar: 3\n",
      "Ímpar: 3\n",
      "Ímpar: 3\n"
     ]
    }
   ],
   "source": [
    "numeros = []\n",
    "\n",
    "for i in range(3):\n",
    "    numeros.append(int(input('Digite um número: ')))\n",
    "\n",
    "for i in range(3):\n",
    "    if numeros[i] % 2 == 0:\n",
    "        print(f'Par: {numeros[i]}')\n",
    "    else:\n",
    "        print(f'Ímpar: {numeros[i]}')\n"
   ]
  },
  {
   "cell_type": "markdown",
   "metadata": {},
   "source": [
    "### Escreva um código Python para imprimir os números pares de 0 até 20 (incluso).\n",
    "_Importante: Aplique a função `range()` em seu código._"
   ]
  },
  {
   "cell_type": "code",
   "execution_count": 46,
   "metadata": {},
   "outputs": [
    {
     "name": "stdout",
     "output_type": "stream",
     "text": [
      "0\n",
      "2\n",
      "4\n",
      "6\n",
      "8\n",
      "10\n",
      "12\n",
      "14\n",
      "16\n",
      "18\n",
      "20\n"
     ]
    }
   ],
   "source": [
    "for i in range(21):\n",
    "    if i % 2 == 0:\n",
    "        print(f'{i}')"
   ]
  },
  {
   "cell_type": "markdown",
   "metadata": {},
   "source": [
    "### Escreva um código Python para imprimir todos os números primos entre 1 até 100. Lembre-se que você deverá desenvolver o cálculo que identifica se um número é primo ou não.\n",
    "_Importante: Aplique a função `range()`._"
   ]
  },
  {
   "cell_type": "code",
   "execution_count": 47,
   "metadata": {},
   "outputs": [
    {
     "name": "stdout",
     "output_type": "stream",
     "text": [
      "2\n",
      "3\n",
      "5\n",
      "7\n",
      "11\n",
      "13\n",
      "17\n",
      "19\n",
      "23\n",
      "29\n",
      "31\n",
      "37\n",
      "41\n",
      "43\n",
      "47\n",
      "53\n",
      "59\n",
      "61\n",
      "67\n",
      "71\n",
      "73\n",
      "79\n",
      "83\n",
      "89\n",
      "97\n"
     ]
    }
   ],
   "source": [
    "for num in range(2 , 101): # Percorre os números de 2 a 100\n",
    "    is_prime = True\n",
    "    for i in range(2, num):\n",
    "        if num % i == 0: # Veriiica se o número é divisível por algum outro número\n",
    "            is_prime = False\n",
    "            break\n",
    "    if is_prime:\n",
    "        print(num)\n"
   ]
  },
  {
   "cell_type": "markdown",
   "metadata": {},
   "source": [
    "### Escreva um código Python que declara 3 variáveis:\n",
    "\n",
    "* dia, inicializada com valor 22\n",
    "\n",
    "* mes, inicializada com valor 10 e\n",
    "\n",
    "* ano, inicializada com valor 2022\n",
    "\n",
    "Como saída, você deverá imprimir a data correspondente, no formato a seguir dia/mes/ano."
   ]
  },
  {
   "cell_type": "code",
   "execution_count": 48,
   "metadata": {},
   "outputs": [
    {
     "name": "stdout",
     "output_type": "stream",
     "text": [
      "22/10/2022\n"
     ]
    }
   ],
   "source": [
    "dia = 22\n",
    "mes = 10\n",
    "ano = 2022\n",
    "\n",
    "print(f'{dia}/{mes}/{ano}')"
   ]
  },
  {
   "cell_type": "markdown",
   "metadata": {},
   "source": [
    "### Considere as duas listas abaixo:\n",
    "* a = [1, 1, 2, 3, 5, 8, 14, 21, 34, 55, 89]\n",
    "* b = [1, 2, 3, 4, 5, 6, 7, 8, 9, 10, 11, 12, 13, 14, 15]\n",
    "### Escreva um programa para avaliar o que ambas as listas têm em comum (sem repetições), imprimindo a lista de valores da interseção na saída padrão.\n",
    "_**Importante:**  Esperamos que você utilize o construtor set() em seu código._\n",
    "\n",
    "#### **ESTA COM ERRO**"
   ]
  },
  {
   "cell_type": "code",
   "execution_count": 49,
   "metadata": {},
   "outputs": [
    {
     "name": "stdout",
     "output_type": "stream",
     "text": [
      "{1, 2, 3, 5, 8, 14}\n"
     ]
    }
   ],
   "source": [
    "a = {1, 1, 2, 3, 5, 8, 14, 21, 34, 55, 89}\n",
    "b = {1, 2, 3, 4, 5, 6, 7, 8, 9, 10, 11, 12, 13, 14, 15}\n",
    "\n",
    "print(set(a) & set(b))\n"
   ]
  },
  {
   "cell_type": "markdown",
   "metadata": {},
   "source": [
    "### Dada a seguinte lista:\n",
    "* a = [1, 4, 9, 16, 25, 36, 49, 64, 81, 100]\n",
    "### Faça um programa que gere uma nova lista contendo apenas números ímpares."
   ]
  },
  {
   "cell_type": "code",
   "execution_count": 50,
   "metadata": {},
   "outputs": [
    {
     "name": "stdout",
     "output_type": "stream",
     "text": [
      "[1, 9, 25, 49, 81]\n"
     ]
    }
   ],
   "source": [
    "a = [1, 4, 9, 16, 25, 36, 49, 64, 81, 100]\n",
    "\n",
    "impares = []\n",
    "\n",
    "for i in range(len(a)):\n",
    "    if a[i] % 2 != 0:\n",
    "        impares.append(a[i])\n",
    "\n",
    "print(impares)\n"
   ]
  },
  {
   "cell_type": "markdown",
   "metadata": {},
   "source": [
    "### Verifique se cada uma das palavras da lista ['maça', 'arara', 'audio', 'radio', 'radar', 'moto'] é ou não um palíndromo.\n",
    "\n",
    "_Obs: Palíndromo é uma palavra que permanece igual se lida de traz pra frente._"
   ]
  },
  {
   "cell_type": "code",
   "execution_count": 51,
   "metadata": {},
   "outputs": [
    {
     "name": "stdout",
     "output_type": "stream",
     "text": [
      "A palavra: maça não é um palíndromo\n",
      "A palavra: arara é um palíndromo\n",
      "A palavra: audio não é um palíndromo\n",
      "A palavra: radio não é um palíndromo\n",
      "A palavra: radar é um palíndromo\n",
      "A palavra: moto não é um palíndromo\n"
     ]
    }
   ],
   "source": [
    "palavras = ['maça', 'arara', 'audio', 'radio', 'radar', 'moto']\n",
    "\n",
    "for palavra in palavras:\n",
    "    if palavra == palavra[::-1]: # Verifica se a palavra e um palindromo\n",
    "        print(f'A palavra: {palavra} é um palíndromo')\n",
    "    else:\n",
    "        print(f'A palavra: {palavra} não é um palíndromo')\n"
   ]
  },
  {
   "cell_type": "markdown",
   "metadata": {},
   "source": [
    "### Dada as listas a seguir:\n",
    "* primeirosNomes = ['Joao', 'Douglas', 'Lucas', 'José']\n",
    "* sobreNomes = ['Soares', 'Souza', 'Silveira', 'Pedreira']\n",
    "* idades = [19, 28, 25, 31]\n",
    "#### Faça um programa que imprima o dados na seguinte estrutura:\n",
    "_\"índice - primeiroNome sobreNome está com idade anos\"._"
   ]
  },
  {
   "cell_type": "code",
   "execution_count": 52,
   "metadata": {},
   "outputs": [
    {
     "name": "stdout",
     "output_type": "stream",
     "text": [
      "0 - Joao Soares está com 19 anos.\n",
      "1 - Douglas Souza está com 28 anos.\n",
      "2 - Lucas Silveira está com 25 anos.\n",
      "3 - José Pedreira está com 31 anos.\n"
     ]
    }
   ],
   "source": [
    "primeirosNomes = ['Joao', 'Douglas', 'Lucas', 'José']\n",
    "sobreNomes = ['Soares', 'Souza', 'Silveira', 'Pedreira']\n",
    "idades = [19, 28, 25, 31]\n",
    "\n",
    "for index, (primeiroNome, sobreNome, idade) in enumerate(zip(primeirosNomes, sobreNomes, idades)): \n",
    "    print(f\"{index} - {primeiroNome} {sobreNome} está com {idade} anos.\")\n"
   ]
  },
  {
   "cell_type": "markdown",
   "metadata": {},
   "source": [
    "### Escreva uma função que recebe uma lista e retorna uma nova lista sem elementos duplicados. Utilize a lista a seguir para testar sua função.\n",
    "* ['abc', 'abc', 'abc', '123', 'abc', '123', '123']"
   ]
  },
  {
   "cell_type": "code",
   "execution_count": 53,
   "metadata": {},
   "outputs": [
    {
     "name": "stdout",
     "output_type": "stream",
     "text": [
      "['abc', '123']\n"
     ]
    }
   ],
   "source": [
    "def recebe_lista(lista):\n",
    "    sem_duplicados = []\n",
    "    for i in lista:\n",
    "        if i not in set(sem_duplicados):\n",
    "            sem_duplicados.append(i)\n",
    "    return sem_duplicados\n",
    "\n",
    "\n",
    "lista = ['abc', 'abc', 'abc', '123', 'abc', '123', '123']\n",
    "print(recebe_lista(lista))"
   ]
  },
  {
   "cell_type": "markdown",
   "metadata": {},
   "source": [
    "### Escreva um programa para ler o conteúdo do arquivo texto arquivo_texto.txt e imprimir o seu conteúdo.\n",
    "_Dica: leia a documentação da função open(...)_"
   ]
  },
  {
   "cell_type": "code",
   "execution_count": 54,
   "metadata": {},
   "outputs": [
    {
     "ename": "FileNotFoundError",
     "evalue": "[Errno 2] No such file or directory: 'arquivo_texto.txt'",
     "output_type": "error",
     "traceback": [
      "\u001b[0;31m---------------------------------------------------------------------------\u001b[0m",
      "\u001b[0;31mFileNotFoundError\u001b[0m                         Traceback (most recent call last)",
      "\u001b[1;32m/home/jpedro/repo_compass/sprint_3/python-3-curso-completo/codigos-autorais/desafios-trilha.ipynb Cell 24\u001b[0m line \u001b[0;36m1\n\u001b[0;32m----> <a href='vscode-notebook-cell://wsl%2Bubuntu/home/jpedro/repo_compass/sprint_3/python-3-curso-completo/codigos-autorais/desafios-trilha.ipynb#X34sdnNjb2RlLXJlbW90ZQ%3D%3D?line=0'>1</a>\u001b[0m \u001b[39mwith\u001b[39;00m \u001b[39mopen\u001b[39;49m(\u001b[39m'\u001b[39;49m\u001b[39marquivo_texto.txt\u001b[39;49m\u001b[39m'\u001b[39;49m) \u001b[39mas\u001b[39;00m arquivo:\n\u001b[1;32m      <a href='vscode-notebook-cell://wsl%2Bubuntu/home/jpedro/repo_compass/sprint_3/python-3-curso-completo/codigos-autorais/desafios-trilha.ipynb#X34sdnNjb2RlLXJlbW90ZQ%3D%3D?line=1'>2</a>\u001b[0m     \u001b[39mfor\u001b[39;00m palavra \u001b[39min\u001b[39;00m arquivo:\n\u001b[1;32m      <a href='vscode-notebook-cell://wsl%2Bubuntu/home/jpedro/repo_compass/sprint_3/python-3-curso-completo/codigos-autorais/desafios-trilha.ipynb#X34sdnNjb2RlLXJlbW90ZQ%3D%3D?line=2'>3</a>\u001b[0m         \u001b[39mprint\u001b[39m(palavra, end\u001b[39m=\u001b[39m\u001b[39m'\u001b[39m\u001b[39m'\u001b[39m)\n",
      "File \u001b[0;32m~/.local/lib/python3.10/site-packages/IPython/core/interactiveshell.py:310\u001b[0m, in \u001b[0;36m_modified_open\u001b[0;34m(file, *args, **kwargs)\u001b[0m\n\u001b[1;32m    303\u001b[0m \u001b[39mif\u001b[39;00m file \u001b[39min\u001b[39;00m {\u001b[39m0\u001b[39m, \u001b[39m1\u001b[39m, \u001b[39m2\u001b[39m}:\n\u001b[1;32m    304\u001b[0m     \u001b[39mraise\u001b[39;00m \u001b[39mValueError\u001b[39;00m(\n\u001b[1;32m    305\u001b[0m         \u001b[39mf\u001b[39m\u001b[39m\"\u001b[39m\u001b[39mIPython won\u001b[39m\u001b[39m'\u001b[39m\u001b[39mt let you open fd=\u001b[39m\u001b[39m{\u001b[39;00mfile\u001b[39m}\u001b[39;00m\u001b[39m by default \u001b[39m\u001b[39m\"\u001b[39m\n\u001b[1;32m    306\u001b[0m         \u001b[39m\"\u001b[39m\u001b[39mas it is likely to crash IPython. If you know what you are doing, \u001b[39m\u001b[39m\"\u001b[39m\n\u001b[1;32m    307\u001b[0m         \u001b[39m\"\u001b[39m\u001b[39myou can use builtins\u001b[39m\u001b[39m'\u001b[39m\u001b[39m open.\u001b[39m\u001b[39m\"\u001b[39m\n\u001b[1;32m    308\u001b[0m     )\n\u001b[0;32m--> 310\u001b[0m \u001b[39mreturn\u001b[39;00m io_open(file, \u001b[39m*\u001b[39;49margs, \u001b[39m*\u001b[39;49m\u001b[39m*\u001b[39;49mkwargs)\n",
      "\u001b[0;31mFileNotFoundError\u001b[0m: [Errno 2] No such file or directory: 'arquivo_texto.txt'"
     ]
    }
   ],
   "source": [
    "with open('arquivo_texto.txt') as arquivo:\n",
    "    for palavra in arquivo:\n",
    "        print(palavra, end='')\n",
    "    "
   ]
  },
  {
   "cell_type": "markdown",
   "metadata": {},
   "source": [
    "### Leia o arquivo person.json, faça o parsing e imprima seu conteúdo.\n",
    "_Dica: leia a documentação do pacote json_"
   ]
  },
  {
   "cell_type": "code",
   "execution_count": null,
   "metadata": {},
   "outputs": [],
   "source": [
    "import json\n",
    "\n",
    "with open('person.json') as arquivo:\n",
    "    pessoa = json.load(arquivo)\n",
    "    print(pessoa)\n"
   ]
  },
  {
   "cell_type": "markdown",
   "metadata": {},
   "source": [
    "### Implemente a função my_map(list, f) que recebe uma lista como primeiro argumento e uma função como segundo argumento. Esta função aplica a função recebida para cada elemento da lista recebida e retorna o resultado em uma nova lista.\n",
    "#### Teste sua função com a lista de entrada:\n",
    "* [1, 2, 3, 4, 5, 6, 7, 8, 9, 10] \n",
    "#### e com uma função que potência de 2 para cada elemento."
   ]
  },
  {
   "cell_type": "code",
   "execution_count": null,
   "metadata": {},
   "outputs": [
    {
     "name": "stdout",
     "output_type": "stream",
     "text": [
      "[1, 4, 9, 16, 25, 36, 49, 64, 81, 100]\n"
     ]
    }
   ],
   "source": [
    "def my_map(lista, f):\n",
    "    return [f(x) for x in lista]\n",
    "\n",
    "lista = [1, 2, 3, 4, 5, 6, 7, 8, 9, 10]\n",
    "\n",
    "listapow2 = my_map(lista, lambda x: x**2) # eleva ao quadrado cada elemento da lista com a função lambda\n",
    "\n",
    "print(listapow2)\n"
   ]
  },
  {
   "cell_type": "markdown",
   "metadata": {},
   "source": [
    "### Escreva uma função que recebe um número variável de parâmetros não nomeados e um número variado de parâmetros nomeados e imprime o valor de cada parâmetro recebido.\n",
    "#### Teste sua função com os seguintes parâmetros:\n",
    "* (1, 3, 4, 'hello', parametro_nomeado='alguma coisa', x=20)"
   ]
  },
  {
   "cell_type": "code",
   "execution_count": null,
   "metadata": {},
   "outputs": [
    {
     "name": "stdout",
     "output_type": "stream",
     "text": [
      "1\n",
      "3\n",
      "4\n",
      "hello\n",
      "alguma coisa\n",
      "20\n"
     ]
    }
   ],
   "source": [
    "def print_parameters(*args, **kwargs): # args e kwargs são nomes convencionais usados para parâmetros\n",
    "    for arg in args:\n",
    "        print(arg)\n",
    "    for key, value in kwargs.items():\n",
    "        print(f\"{value}\")\n",
    "\n",
    "\n",
    "print_parameters(1, 3, 4, 'hello', parametro_nomeado='alguma coisa', x=20)\n"
   ]
  },
  {
   "cell_type": "markdown",
   "metadata": {},
   "source": [
    "### Implemente a classe Lampada. A classe Lâmpada recebe um booleano no seu construtor, True se a lâmpada estiver ligada, False caso esteja desligada. A classe Lampada possuí os seguintes métodos:\n",
    "\n",
    "- `liga(): muda o estado da lâmpada para ligada`\n",
    "- `desliga(): muda o estado da lâmpada para desligada`\n",
    "- `esta_ligada(): retorna verdadeiro se a lâmpada estiver ligada, falso caso contrário`\n",
    "#### Para testar sua classe:\n",
    "- `Ligue a Lampada`\n",
    "- `Imprima: A lâmpada está ligada? True`\n",
    "- `Desligue a Lampada`\n",
    "- `Imprima: A lâmpada ainda está ligada? False`"
   ]
  },
  {
   "cell_type": "code",
   "execution_count": null,
   "metadata": {},
   "outputs": [
    {
     "name": "stdout",
     "output_type": "stream",
     "text": [
      "A lampada esta ligada? True\n",
      "A lampada esta ligada? False\n"
     ]
    }
   ],
   "source": [
    "class Lampada:\n",
    "    def __init__(self, ligada): # Construtor da classe\n",
    "        self.ligada = ligada\n",
    "\n",
    "    def liga(self):\n",
    "        self.ligada = True\n",
    "\n",
    "    def desliga(self):\n",
    "        self.ligada = False\n",
    "\n",
    "    def esta_ligada(self):\n",
    "        return self.ligada\n",
    "    \n",
    "\n",
    "lampada = Lampada(False)\n",
    "\n",
    "lampada.liga()\n",
    "\n",
    "print(f'A lampada esta ligada? {lampada.esta_ligada()}')\n",
    "\n",
    "lampada.desliga()\n",
    "\n",
    "print(f'A lampada esta ligada? {lampada.esta_ligada()}')"
   ]
  },
  {
   "cell_type": "markdown",
   "metadata": {},
   "source": [
    "### Escreva uma função que recebe uma string de números separados por vírgula e retorne a soma de todos eles. Depois imprima a soma dos valores.\n",
    "#### A string deve ter valor\n",
    "* \"1,3,4,6,10,76\""
   ]
  },
  {
   "cell_type": "code",
   "execution_count": null,
   "metadata": {},
   "outputs": [
    {
     "name": "stdout",
     "output_type": "stream",
     "text": [
      "100\n"
     ]
    }
   ],
   "source": [
    "def csv_to_list(csv_string):\n",
    "    soma = sum([int(x) for x in csv_string.split(',')])\n",
    "    return soma\n",
    "\n",
    "numeros = \"1,3,4,6,10,76\"\n",
    "\n",
    "print(csv_to_list(numeros))"
   ]
  },
  {
   "cell_type": "markdown",
   "metadata": {},
   "source": [
    "### Escreva uma função que recebe como parâmetro uma lista e retorna 3 listas: a lista recebida dividida em 3 partes iguais. Teste sua implementação com a lista abaixo:\n",
    "* lista = [1, 2, 3, 4, 5, 6, 7, 8, 9, 10, 11, 12]"
   ]
  },
  {
   "cell_type": "code",
   "execution_count": null,
   "metadata": {},
   "outputs": [
    {
     "name": "stdout",
     "output_type": "stream",
     "text": [
      "[1, 2, 3, 4] [5, 6, 7, 8] [9, 10, 11, 12]\n"
     ]
    }
   ],
   "source": [
    "def equaly_divided(lista):\n",
    "    divisor = len(lista)/3\n",
    "    lista1 = lista[:int(divisor)]\n",
    "    lista2 = lista[int(divisor):int(divisor*2)]\n",
    "    lista3 = lista[int(divisor*2):]\n",
    "    return lista1, lista2, lista3\n",
    "\n",
    "lista = [1, 2, 3, 4, 5, 6, 7, 8, 9, 10, 11, 12]\n",
    "\n",
    "print(*equaly_divided(lista))"
   ]
  },
  {
   "cell_type": "markdown",
   "metadata": {},
   "source": [
    "### Dado o dicionário a seguir:\n",
    "* `speed = {'jan':47, 'feb':52, 'march':47, 'April':44, 'May':52, 'June':53, 'july':54, 'Aug':44, 'Sept':54}`\n",
    "#### Crie uma lista com todos os valores (não as chaves!) e coloque numa lista de forma que não haja valores duplicados."
   ]
  },
  {
   "cell_type": "code",
   "execution_count": null,
   "metadata": {},
   "outputs": [
    {
     "name": "stdout",
     "output_type": "stream",
     "text": [
      "[44, 47, 52, 53, 54]\n"
     ]
    }
   ],
   "source": [
    "speed = {'jan':47, 'feb':52, 'march':47, 'April':44, 'May':52, 'June':53, 'july':54, 'Aug':44, 'Sept':54}\n",
    "\n",
    "valores = sorted(set(speed.values()))\n",
    "\n",
    "print(valores)\n"
   ]
  },
  {
   "cell_type": "markdown",
   "metadata": {},
   "source": [
    "### Calcule o valor mínimo, valor máximo, valor médio e a mediana da lista gerada na célula abaixo:\n",
    "_Obs.: Lembrem-se, para calcular a mediana a lista deve estar ordenada!_\n",
    "```\n",
    "import random \n",
    "# amostra aleatoriamente 50 números do intervalo 0...500\n",
    "random_list = random.sample(range(500),50)\n",
    "```\n",
    "Use as variáveis abaixo para representar cada operação matemática:\n",
    "```\n",
    "mediana\n",
    "media\n",
    "valor_minimo \n",
    "valor_maximo \n",
    "```\n",
    "**Importante: Esperamos que você utilize as funções abaixo em seu código:**\n",
    "- `random`\n",
    "- `max`\n",
    "- `min`\n",
    "- `sum`"
   ]
  },
  {
   "cell_type": "code",
   "execution_count": null,
   "metadata": {},
   "outputs": [
    {
     "name": "stdout",
     "output_type": "stream",
     "text": [
      "Media: 227.2, Mediana: 234.5, Mínimo: 0, Máximo: 469\n"
     ]
    }
   ],
   "source": [
    "import random\n",
    "\n",
    "random_list = random.sample(range(500), 50)\n",
    "\n",
    "random_list.sort()\n",
    "\n",
    "# Calcula a mediana para uma lista de tamanho par ou impar\n",
    "if len(random_list) % 2 == 0:\n",
    "    mediana = (random_list[int(len(random_list)/2)] + random_list[int(len(random_list)/2) - 1])/2\n",
    "else:\n",
    "    mediana = random_list[int(len(random_list)/2)]\n",
    "\n",
    "media = sum(random_list)/len(random_list)\n",
    "valor_maximo = max(random_list)\n",
    "valor_minimo = min(random_list)\n",
    "\n",
    "print(f'Media: {media}, Mediana: {mediana}, Mínimo: {valor_minimo}, Máximo: {valor_maximo}')"
   ]
  },
  {
   "cell_type": "markdown",
   "metadata": {},
   "source": [
    "### Imprima a lista abaixo de trás para frente.\n",
    "* a = [1, 0, 2, 3, 5, 8, 13, 21, 34, 55, 89]"
   ]
  },
  {
   "cell_type": "code",
   "execution_count": null,
   "metadata": {},
   "outputs": [
    {
     "name": "stdout",
     "output_type": "stream",
     "text": [
      "[89, 55, 34, 21, 13, 8, 5, 3, 2, 0, 1]\n"
     ]
    }
   ],
   "source": [
    "a = [1, 0, 2, 3, 5, 8, 13, 21, 34, 55, 89]\n",
    "\n",
    "print(a[::-1])"
   ]
  },
  {
   "cell_type": "markdown",
   "metadata": {},
   "source": [
    "## PYTHON II"
   ]
  },
  {
   "cell_type": "markdown",
   "metadata": {},
   "source": [
    "### Implemente duas classes, Pato e Pardal , que herdam de uma superclasse chamada Passaro as habilidades de voar e emitir som.Contudo, tanto Pato quanto Pardal devem emitir sons diferentes (de maneira escrita) no console, conforme o modelo a seguir.\n",
    "#### Imprima no console exatamente assim:\n",
    "````\n",
    "Pato\n",
    "Voando...\n",
    "Pato emitindo som...\n",
    "Quack Quack\n",
    "Pardal\n",
    "Voando...\n",
    "Pardal emitindo som...\n",
    "Piu Piu\n",
    "````"
   ]
  },
  {
   "cell_type": "code",
   "execution_count": 72,
   "metadata": {},
   "outputs": [
    {
     "name": "stdout",
     "output_type": "stream",
     "text": [
      "Pato\n",
      "Voando...\n",
      "Pato emitindo som...\n",
      "Quack Quack\n",
      "Voando...\n",
      "Pardal emitindo som...\n",
      "Piu Piu\n"
     ]
    }
   ],
   "source": [
    "class Passaro:\n",
    "    def __init__(self, nome):\n",
    "        self.nome = nome\n",
    "\n",
    "    def emitir_som(self):\n",
    "        print(f'{self.nome} emitindo som...')\n",
    "\n",
    "    def voar(self):\n",
    "        print(f'Voando...')\n",
    "\n",
    "class Pato(Passaro):\n",
    "    def __init__(self, nome):\n",
    "        super().__init__(nome)\n",
    "    \n",
    "    def emitir_som(self):\n",
    "        super().emitir_som()\n",
    "        print(f'Quack Quack')\n",
    "\n",
    "class Pardal(Passaro):\n",
    "    def __init__(self, nome):\n",
    "        super().__init__(nome)\n",
    "\n",
    "    def emitir_som(self):\n",
    "        super().emitir_som()\n",
    "        print(f'Piu Piu')\n",
    "\n",
    "\n",
    "pato = Pato('Pato')\n",
    "pardal = Pardal('Pardal')\n",
    "\n",
    "print(pato.nome)\n",
    "pato.voar()\n",
    "pato.emitir_som()\n",
    "pardal.voar()\n",
    "pardal.emitir_som()"
   ]
  },
  {
   "cell_type": "markdown",
   "metadata": {},
   "source": [
    "### Crie uma classe chamada Pessoa, com um atributo privado chamado nome (declarado internamente na classe como __nome) e um atributo público de nome id. Adicione dois métodos à classe, sendo um para definir o valor de __nome e outro para retornar o valor do respectivo atributo.\n",
    "_Lembre-se que o acesso ao atributo privado deve ocorrer somente através dos métodos definidos, nunca diretamente.  Você pode alcançar este comportamento através do recurso de properties do Python._\n",
    "#### Veja um exemplo de como seu atributo privado pode ser lido e escrito:\n",
    "```\n",
    "pessoa = Pessoa(0) \n",
    "pessoa.nome = 'Fulano De Tal'\n",
    "print(pessoa.nome)\n",
    "```"
   ]
  },
  {
   "cell_type": "code",
   "execution_count": 74,
   "metadata": {},
   "outputs": [
    {
     "ename": "SyntaxError",
     "evalue": "invalid syntax (455468620.py, line 4)",
     "output_type": "error",
     "traceback": [
      "\u001b[0;36m  Cell \u001b[0;32mIn[74], line 4\u001b[0;36m\u001b[0m\n\u001b[0;31m    self.\u001b[0m\n\u001b[0m         ^\u001b[0m\n\u001b[0;31mSyntaxError\u001b[0m\u001b[0;31m:\u001b[0m invalid syntax\n"
     ]
    }
   ],
   "source": [
    "class Pessoa:\n",
    "    def __init__(self, id):\n",
    "        self.__nome = None\n",
    "        self.id = id\n",
    "\n",
    "    @property\n",
    "    def nome(self):\n",
    "        return self.__nome\n",
    "\n",
    "    @nome.setter\n",
    "    def nome(self, nome):\n",
    "        self.__nome = nome\n"
   ]
  },
  {
   "cell_type": "markdown",
   "metadata": {},
   "source": [
    "### Crie uma classe  Calculo  que contenha um método que aceita dois parâmetros, X e Y, e retorne a soma dos dois. Nessa mesma classe, implemente um método de subtração, que aceita dois parâmetros, X e Y, e retorne a subtração dos dois (resultados negativos são permitidos).\n",
    "#### Utilize os valores abaixo para testar seu exercício:\n",
    "* x = 4 \n",
    "* y = 5\n",
    "#### imprima:\n",
    "````\n",
    "Somando: 4+5 = 9\n",
    "Subtraindo: 4-5 = -1\n",
    "````"
   ]
  },
  {
   "cell_type": "code",
   "execution_count": 75,
   "metadata": {},
   "outputs": [],
   "source": [
    "class Calculo:\n",
    "    def soma(self, x, y):\n",
    "        return x + y\n",
    "    \n",
    "    def subtracao(self, x, y):\n",
    "        return x - y\n",
    "    \n",
    "\n",
    "\n",
    "x = 4\n",
    "y = 5\n",
    "\n",
    "print(f'Soma: {Calculo().soma(x, y)} Subtração: {Calculo().subtracao(x, y)}')"
   ]
  },
  {
   "cell_type": "markdown",
   "metadata": {},
   "source": [
    "### Crie uma classe Ordenadora que contenha um atributo listaBaguncada e que contenha os métodos ordenacaoCrescente e ordenacaoDecrescente. Instancie um objeto chamado crescente dessa classe Ordenadora que tenha como listaBaguncada a lista [3,4,2,1,5] e instancie um outro objeto, decrescente dessa mesma classe com uma outra listaBaguncada sendo [9,7,6,8]. Para o primeiro objeto citado, use o método ordenacaoCrescente e para o segundo objeto, use o método ordenacaoDecrescente.\n",
    "#### Imprima o resultado da ordenação crescente e da ordenação decresce\n",
    "``````\n",
    "[1, 2, 3, 4, 5] \n",
    "[9, 8, 7, 6]\n",
    "``````"
   ]
  },
  {
   "cell_type": "code",
   "execution_count": 83,
   "metadata": {},
   "outputs": [
    {
     "name": "stdout",
     "output_type": "stream",
     "text": [
      "[1, 2, 3, 4, 5]\n",
      "[9, 8, 7, 6]\n"
     ]
    }
   ],
   "source": [
    "class Ordenadora:\n",
    "    def __init__(self, lista):\n",
    "        self.listaBaguncada = lista\n",
    "\n",
    "    def ordenacaoCrescente(self):\n",
    "        self.listaBaguncada.sort()\n",
    "        return self.listaBaguncada\n",
    "    \n",
    "    def ordenacaoDecrescente(self):\n",
    "        self.listaBaguncada.sort(reverse=True)\n",
    "        return self.listaBaguncada\n",
    "\n",
    "lista1 = Ordenadora([3,4,2,1,5])\n",
    "lista2 = Ordenadora([9,7,6,8])\n",
    "\n",
    "print(lista1.ordenacaoCrescente())\n",
    "print(lista2.ordenacaoDecrescente())\n",
    "\n"
   ]
  },
  {
   "cell_type": "markdown",
   "metadata": {},
   "source": [
    "### Crie uma classe Avião que possua os atributos modelo, velocidade_maxima, cor e capacidade. Defina o atributo cor de sua classe , de maneira que todas as instâncias de sua classe avião sejam da cor “azul”. Após isso, a partir de entradas abaixo, instancie e armazene em uma lista 3 objetos da classe Avião. Ao final, itere pela lista imprimindo cada um dos objetos no seguinte formato: “O avião de modelo “x” possui uma velocidade máxima de “y”, capacidade para “z” passageiros e é da cor “w”. Sendo x, y, z e w cada um dos atributos da classe “Avião”.\n",
    "#### Valores de entrada:\n",
    "- `modelo BOIENG456: velocidade máxima 1500 km/h: capacidade para 400 passageiros: Cor Azul`\n",
    "- `modelo Embraer Praetor 600: velocidade máxima 863km/h: capacidade para 14 passageiros: Cor Azul`\n",
    "- `modelo Antonov An-2: velocidade máxima de 258 Km/h: capacidade para 12 passageiros: Cor Azul`"
   ]
  },
  {
   "cell_type": "code",
   "execution_count": 84,
   "metadata": {},
   "outputs": [
    {
     "name": "stdout",
     "output_type": "stream",
     "text": [
      "O aviao de modelo BOIENG456 possui velocidade máxima de 1500, capacidade para 400 passageiros e e da cor azul\n",
      "O aviao de modelo Embraer Praetor 600 possui velocidade máxima de 863, capacidade para 14 passageiros e e da cor azul\n",
      "O aviao de modelo Antonov An-2 possui velocidade máxima de 258, capacidade para 12 passageiros e e da cor azul\n"
     ]
    }
   ],
   "source": [
    "class Aviao:\n",
    "    def __init__(self, modelo, velociada_maxima, capacidade):\n",
    "        self.modelo = modelo\n",
    "        self.velocidade_maxima = velociada_maxima\n",
    "        self.cor = 'azul'\n",
    "        self.capacidade = capacidade\n",
    "\n",
    "\n",
    "aviao1 = Aviao('BOIENG456', 1500, 400)\n",
    "aviao2 = Aviao('Embraer Praetor 600', 863, 14)\n",
    "aviao3 = Aviao('Antonov An-2', 258, 12)\n",
    "\n",
    "print(f'O aviao de modelo {aviao1.modelo} possui velocidade máxima de {aviao1.velocidade_maxima}, capacidade para {aviao1.capacidade} passageiros e e da cor {aviao1.cor}')\n",
    "\n",
    "print(f'O aviao de modelo {aviao2.modelo} possui velocidade máxima de {aviao2.velocidade_maxima}, capacidade para {aviao2.capacidade} passageiros e e da cor {aviao2.cor}')\n",
    "\n",
    "print(f'O aviao de modelo {aviao3.modelo} possui velocidade máxima de {aviao3.velocidade_maxima}, capacidade para {aviao3.capacidade} passageiros e e da cor {aviao3.cor}')"
   ]
  }
 ],
 "metadata": {
  "kernelspec": {
   "display_name": "Python 3",
   "language": "python",
   "name": "python3"
  },
  "language_info": {
   "codemirror_mode": {
    "name": "ipython",
    "version": 3
   },
   "file_extension": ".py",
   "mimetype": "text/x-python",
   "name": "python",
   "nbconvert_exporter": "python",
   "pygments_lexer": "ipython3",
   "version": "3.10.12"
  }
 },
 "nbformat": 4,
 "nbformat_minor": 2
}
